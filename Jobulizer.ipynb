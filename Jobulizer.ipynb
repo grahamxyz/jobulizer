{
 "cells": [
  {
   "cell_type": "code",
   "execution_count": 124,
   "metadata": {},
   "outputs": [],
   "source": [
    "#config\n",
    "srcCsv = \"src/jobulizer-TEST.csv\"\n",
    "csvDates = [\"ApplyDate\",\"FirstUpdate\",\"LastUpdate\"]\n",
    "\n",
    "import pandas as pd\n",
    "import numpy as np\n",
    "import matplotlib.pyplot as plt\n",
    "import matplotlib.dates as mdates\n",
    "from matplotlib.dates import date2num\n",
    "\n",
    "%matplotlib inline\n",
    "\n",
    "df = pd.read_csv(srcCsv,parse_dates=csvDates)"
   ]
  },
  {
   "cell_type": "code",
   "execution_count": 125,
   "metadata": {},
   "outputs": [
    {
     "data": {
      "image/png": "[encoded data removed]",
      "text/plain": [
       "<Figure size 432x288 with 1 Axes>"
      ]
     },
     "metadata": {
      "needs_background": "light"
     },
     "output_type": "display_data"
    }
   ],
   "source": [
    "# Graph cumulative all-time applications\n",
    "\n",
    "# sort by date\n",
    "df = df.sort_values(by=\"ApplyDate\", ascending=False)\n",
    "\n",
    "dateMax = date2num(df[\"ApplyDate\"])[0]\n",
    "dateMin = date2num(df[\"ApplyDate\"])[-1]\n",
    "duration = int (dateMax - dateMin + 1)\n",
    "\n",
    "x = np.arange(dateMin, dateMax + 1)\n",
    "y = np.zeros(duration) # yells at me if I don't cast to int...\n",
    "\n",
    "for date in df[\"ApplyDate\"]:\n",
    "    index = int (date2num(date) - dateMin)\n",
    "    y[index]+= 1\n",
    "ySum = np.cumsum(y)\n",
    "\n",
    "fig, ax = plt.subplots()\n",
    "plt.plot_date(x, ySum, ls='-', ms=0, color='#16171E')\n",
    "plt.fill_between(x, 0, ySum, facecolor='#D0F3FF')\n",
    "fig.suptitle(\"Cumulative job applications\")\n",
    "\n",
    "# also include full months in which first & last applications were sent\n",
    "months = mdates.MonthLocator(interval=1, bymonthday=1)\n",
    "dateFmt = mdates.DateFormatter('\\'%y-%m-%d')\n",
    "ax.xaxis.set_major_locator(months)\n",
    "ax.xaxis.set_major_formatter(dateFmt)\n",
    "plt.show()"
   ]
  }
 ],
 "metadata": {
  "kernelspec": {
   "display_name": "Python 3.8.10 64-bit",
   "language": "python",
   "name": "python3"
  },
  "language_info": {
   "codemirror_mode": {
    "name": "ipython",
    "version": 3
   },
   "file_extension": ".py",
   "mimetype": "text/x-python",
   "name": "python",
   "nbconvert_exporter": "python",
   "pygments_lexer": "ipython3",
   "version": "3.8.10"
  },
  "orig_nbformat": 4,
  "vscode": {
   "interpreter": {
    "hash": "e7370f93d1d0cde622a1f8e1c04877d8463912d04d973331ad4851f04de6915a"
   }
  }
 },
 "nbformat": 4,
 "nbformat_minor": 2
}
