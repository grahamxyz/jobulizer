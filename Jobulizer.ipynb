{
 "cells": [
  {
   "cell_type": "code",
   "execution_count": 2,
   "metadata": {},
   "outputs": [],
   "source": [
    "#config\n",
    "src_csv = \"src/jobulizer-TEST.csv\"\n",
    "dates_csv = [\"applyDate\",\"firstUpdate\",\"lastUpdate\"] # list of cols to parse as dates\n",
    "\n",
    "import pandas as pd\n",
    "import numpy as np\n",
    "import matplotlib.pyplot as plt\n",
    "import matplotlib.dates as mdates\n",
    "from matplotlib.dates import date2num\n",
    "\n",
    "df = pd.read_csv(src_csv ,parse_dates=dates_csv)"
   ]
  },
  {
   "cell_type": "code",
   "execution_count": 4,
   "metadata": {},
   "outputs": [
    {
     "data": {
      "image/png": "[encoded data removed]",
      "text/plain": [
       "<Figure size 432x288 with 1 Axes>"
      ]
     },
     "metadata": {
      "needs_background": "light"
     },
     "output_type": "display_data"
    }
   ],
   "source": [
    "# Cumulative job applications\n",
    "\n",
    "# sort by date\n",
    "df = df.sort_values(by=\"applyDate\", ascending=False)\n",
    "\n",
    "max_date = date2num(df[\"applyDate\"])[0]\n",
    "min_date = date2num(df[\"applyDate\"])[-1]\n",
    "duration = int (max_date - min_date + 1)\n",
    "\n",
    "x = np.arange(min_date, max_date + 1)\n",
    "y = np.zeros(duration) # yells at me if I don't cast to int...\n",
    "\n",
    "for date in df[\"applyDate\"]:\n",
    "    index = int (date2num(date) - min_date)\n",
    "    y[index]+= 1\n",
    "ySum = np.cumsum(y)\n",
    "\n",
    "fig, ax = plt.subplots()\n",
    "plt.plot_date(x, ySum, ls='-', ms=0, color='#16171E')\n",
    "plt.fill_between(x, 0, ySum, facecolor='#D0F3FF')\n",
    "fig.suptitle(\"Cumulative job applications\")\n",
    "\n",
    "# also include full months in which first & last applications were sent\n",
    "months = mdates.MonthLocator(interval=1, bymonthday=1)\n",
    "dateFmt = mdates.DateFormatter('%m-%d')\n",
    "ax.xaxis.set_major_locator(months)\n",
    "ax.xaxis.set_major_formatter(dateFmt)\n",
    "plt.show()"
   ]
  },
  {
   "cell_type": "code",
   "execution_count": null,
   "metadata": {},
   "outputs": [],
   "source": []
  }
 ],
 "metadata": {
  "kernelspec": {
   "display_name": "Python 3.8.10 64-bit",
   "language": "python",
   "name": "python3"
  },
  "language_info": {
   "codemirror_mode": {
    "name": "ipython",
    "version": 3
   },
   "file_extension": ".py",
   "mimetype": "text/x-python",
   "name": "python",
   "nbconvert_exporter": "python",
   "pygments_lexer": "ipython3",
   "version": "3.8.10"
  },
  "orig_nbformat": 4,
  "vscode": {
   "interpreter": {
    "hash": "e7370f93d1d0cde622a1f8e1c04877d8463912d04d973331ad4851f04de6915a"
   }
  }
 },
 "nbformat": 4,
 "nbformat_minor": 2
}
